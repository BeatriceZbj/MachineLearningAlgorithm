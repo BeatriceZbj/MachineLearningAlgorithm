{
  "nbformat": 4,
  "nbformat_minor": 0,
  "metadata": {
    "colab": {
      "name": "Forward Selection.ipynb",
      "provenance": [],
      "collapsed_sections": [],
      "authorship_tag": "ABX9TyPFnufpVUahEpIkRaa6Rmpy",
      "include_colab_link": true
    },
    "kernelspec": {
      "name": "python3",
      "display_name": "Python 3"
    },
    "language_info": {
      "name": "python"
    }
  },
  "cells": [
    {
      "cell_type": "markdown",
      "metadata": {
        "id": "view-in-github",
        "colab_type": "text"
      },
      "source": [
        "<a href=\"https://colab.research.google.com/github/BeatriceZbj/MachineLearningAlgorithm/blob/main/Forward_Selection.ipynb\" target=\"_parent\"><img src=\"https://colab.research.google.com/assets/colab-badge.svg\" alt=\"Open In Colab\"/></a>"
      ]
    },
    {
      "cell_type": "code",
      "execution_count": null,
      "metadata": {
        "id": "cfzacTEKygko"
      },
      "outputs": [],
      "source": [
        "from statsmodels.formula.api import ols # 这里加载是线性回归的包\n",
        "def forward_select(data, response):\n",
        "    remaining = set(data.columns)\n",
        "    remaining.remove(response)\n",
        "    selected = []\n",
        "    current_score, best_new_score = float('inf'), float('inf')\n",
        "    while remaining:\n",
        "        aic_with_candidates=[]\n",
        "        for candidate in remaining:\n",
        "            formula = \"{} ~ {}\".format(\n",
        "                response,' + '.join(selected + [candidate]))\n",
        "            aic = ols(\n",
        "                formula=formula, data=data, \n",
        "            ).fit().aic\n",
        "            aic_with_candidates.append((aic, candidate))\n",
        "        aic_with_candidates.sort(reverse=True)\n",
        "        best_new_score, best_candidate=aic_with_candidates.pop()\n",
        "        if current_score > best_new_score: \n",
        "            remaining.remove(best_candidate)\n",
        "            selected.append(best_candidate)\n",
        "            current_score = best_new_score\n",
        "            print ('aic is {},continuing!'.format(current_score))\n",
        "        else:        \n",
        "            print ('forward selection over!')\n",
        "            break\n",
        "            \n",
        "    formula = \"{} ~ {} \".format(response,' + '.join(selected))\n",
        "    print('final formula is {}'.format(formula))\n",
        "    model = ols(\n",
        "        formula=formula, data=data, \n",
        "    ).fit()\n",
        "    return(model)"
      ]
    }
  ]
}