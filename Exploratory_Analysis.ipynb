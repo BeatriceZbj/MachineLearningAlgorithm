{
  "nbformat": 4,
  "nbformat_minor": 0,
  "metadata": {
    "colab": {
      "name": " Exploratory Analysis.ipynb",
      "provenance": [],
      "authorship_tag": "ABX9TyO9oGa19rN25U1BkktcbEog",
      "include_colab_link": true
    },
    "kernelspec": {
      "name": "python3",
      "display_name": "Python 3"
    },
    "language_info": {
      "name": "python"
    }
  },
  "cells": [
    {
      "cell_type": "markdown",
      "metadata": {
        "id": "view-in-github",
        "colab_type": "text"
      },
      "source": [
        "<a href=\"https://colab.research.google.com/github/BeatriceZbj/MachineLearningAlgorithm/blob/main/Exploratory_Analysis.ipynb\" target=\"_parent\"><img src=\"https://colab.research.google.com/assets/colab-badge.svg\" alt=\"Open In Colab\"/></a>"
      ]
    },
    {
      "cell_type": "code",
      "execution_count": null,
      "metadata": {
        "id": "RW5amZnEJj4z"
      },
      "outputs": [],
      "source": [
        "import numpy as np\n",
        "import pandas as pd\n",
        "import matplotlib.pyplot as plt"
      ]
    },
    {
      "cell_type": "code",
      "source": [
        "data = pd.read_csv('air_data.csv') #读取原始数据\n",
        "data"
      ],
      "metadata": {
        "id": "fnWMPklnJtAM"
      },
      "execution_count": null,
      "outputs": []
    },
    {
      "cell_type": "code",
      "source": [
        "data.head() #tail"
      ],
      "metadata": {
        "id": "GdMwClhPJvDf"
      },
      "execution_count": null,
      "outputs": []
    },
    {
      "cell_type": "code",
      "source": [
        "data.shape"
      ],
      "metadata": {
        "id": "V0CAOIoAJwpp"
      },
      "execution_count": null,
      "outputs": []
    },
    {
      "cell_type": "code",
      "source": [
        "data.info()     #缺失情况，数据类型"
      ],
      "metadata": {
        "id": "NSsz4A53Jw8Y"
      },
      "execution_count": null,
      "outputs": []
    },
    {
      "cell_type": "markdown",
      "source": [
        "#### 缺失值计算"
      ],
      "metadata": {
        "id": "IVF9kuv4J1mA"
      }
    },
    {
      "cell_type": "code",
      "source": [
        "# 对数据的描述，探索性分析\n",
        "explore = data.describe().T    #数值型\n",
        "explore"
      ],
      "metadata": {
        "id": "tBBDonutJ0pd"
      },
      "execution_count": null,
      "outputs": []
    },
    {
      "cell_type": "markdown",
      "source": [
        "#### 数值型"
      ],
      "metadata": {
        "id": "Zw2CaJsuJ6Yl"
      }
    },
    {
      "cell_type": "code",
      "source": [
        "#哪些列有缺失，缺失的数据类型，缺失的数量，缺失的比例\n",
        "explore['null'] = len(data)-explore['count'] # describe()函数自动计算非空值数，需要手动计算空值数\n",
        "explore = explore[['null', 'max', 'min']]\n",
        "explore.columns = ['空值数', '最大值', '最小值'] # 表头重命名\n",
        "explore['空值比例'] =explore['空值数']/len(data)\n",
        "explore  "
      ],
      "metadata": {
        "id": "M5aJQ_t3J5TX"
      },
      "execution_count": null,
      "outputs": []
    },
    {
      "cell_type": "code",
      "source": [
        "explore[explore['空值数']>0]  #数值型数据，筛选有空值"
      ],
      "metadata": {
        "id": "BPXTVtaTJ-he"
      },
      "execution_count": null,
      "outputs": []
    },
    {
      "cell_type": "markdown",
      "source": [
        "#### 字符串型"
      ],
      "metadata": {
        "id": "2cHt-L74J_dC"
      }
    },
    {
      "cell_type": "code",
      "source": [
        "explore2=data.describe(include='object').T    #类别型 include='object'\n",
        "explore2"
      ],
      "metadata": {
        "id": "MpPtPiqcKAuA"
      },
      "execution_count": null,
      "outputs": []
    },
    {
      "cell_type": "code",
      "source": [
        "explore2['null'] = len(data)-explore2['count'] # describe()函数自动计算非空值数，需要手动计算空值数\n",
        "explore2['空值比例'] =explore2['null']/len(data)\n",
        "explore2"
      ],
      "metadata": {
        "id": "MKneCqfcKC10"
      },
      "execution_count": null,
      "outputs": []
    },
    {
      "cell_type": "code",
      "source": [
        "explore2[explore2['null']>0]  #对于object型，空值情况"
      ],
      "metadata": {
        "id": "_tH1VFbwKEUa"
      },
      "execution_count": null,
      "outputs": []
    },
    {
      "cell_type": "markdown",
      "source": [
        "#### 数据预处理"
      ],
      "metadata": {
        "id": "1CN9igNrKG8D"
      }
    },
    {
      "cell_type": "code",
      "source": [
        "# 处理方式，过滤：\n",
        "# 票价为空的记录（第一年和第二年票价都不能为空）：为空可能是不存在的飞行记录"
      ],
      "metadata": {
        "id": "SkPUxv7bKIQC"
      },
      "execution_count": null,
      "outputs": []
    },
    {
      "cell_type": "markdown",
      "source": [
        "##### 数据清洗"
      ],
      "metadata": {
        "id": "gXjgB0NPKNWu"
      }
    },
    {
      "cell_type": "code",
      "source": [
        "# 过滤掉票价为空的记录，两年都不为空的数据\n",
        "data = data[data['SUM_YR_1'].notnull() & data['SUM_YR_2'].notnull()] "
      ],
      "metadata": {
        "id": "H6dtuEzMKKU1"
      },
      "execution_count": null,
      "outputs": []
    },
    {
      "cell_type": "code",
      "source": [
        "data.shape"
      ],
      "metadata": {
        "id": "2N3v5PYzKRPs"
      },
      "execution_count": null,
      "outputs": []
    },
    {
      "cell_type": "code",
      "source": [
        "# 选出有乘机记录的乘客选出来，乘坐过飞机的客户，三类\n",
        "#1、要么第一年的总票价不为0\n",
        "#2、要么第二年的总票价不为0\n",
        "#3、积累的里程为0，同时折扣率也为0，积分兑换用户\n",
        "\n",
        "index1 = data['SUM_YR_1'] != 0  #第一年不等于零 选出\n",
        "index2 = data['SUM_YR_2'] != 0  #第二年不等于零  选出\n",
        "index3 = (data['SEG_KM_SUM'] == 0) & (data['avg_discount'] == 0)  # 积分兑换用户 \n",
        "data = data[index1 | index2 | index3] # 逻辑或  用户的筛选\n",
        "data.shape"
      ],
      "metadata": {
        "id": "jnDNb6AXKKPT"
      },
      "execution_count": null,
      "outputs": []
    },
    {
      "cell_type": "markdown",
      "source": [
        "##### 字段选择"
      ],
      "metadata": {
        "id": "bulsd5TSKVjy"
      }
    },
    {
      "cell_type": "code",
      "source": [
        "# LOAD_TIME：数据截取时间（观察期的结束时间，这里为2014-2-31）\n",
        "# FFP_DATE：入会时间              —— L\n",
        "# LAST_TO_END：最后一次乘机时间   —— R\n",
        "# FLIGHT_COUNT：飞行次数  —— F\n",
        "# SEG_KM_SUM：飞行总里程  —— M\n",
        "# avg_discount ：平均折扣率 —— C\n",
        "\n",
        "#构造LRFMC指标：\n",
        "#L=LOAD_TIME - FFP_DATE(观测窗口的结束时间 - 入会时间)  # 入会时长，时间间隔\n",
        "#R=LAST_TO_END(最后一次乘坐飞机距观测窗口结束的时长)    #时间间隔\n",
        "#F=FLIGHT_COUNT(观测窗口内的飞行次数)\n",
        "#M=SEG_KM_SUM(观测窗口内的总飞行里程)\n",
        "#C=AVG_DISCOUNT(平均折扣率)"
      ],
      "metadata": {
        "id": "mWQTw11nKW_U"
      },
      "execution_count": null,
      "outputs": []
    },
    {
      "cell_type": "code",
      "source": [
        "data = data[['LOAD_TIME','FFP_DATE','LAST_TO_END','FLIGHT_COUNT','SEG_KM_SUM','avg_discount']]\n",
        "data.head()"
      ],
      "metadata": {
        "id": "n4G6j_b5KZYs"
      },
      "execution_count": null,
      "outputs": []
    },
    {
      "cell_type": "code",
      "source": [
        "data.info()"
      ],
      "metadata": {
        "id": "_UP5rr4NKby2"
      },
      "execution_count": null,
      "outputs": []
    },
    {
      "cell_type": "markdown",
      "source": [
        "##### 时间数据处理"
      ],
      "metadata": {
        "id": "Hyhv6l01Kdj2"
      }
    },
    {
      "cell_type": "code",
      "source": [
        "pd.to_datetime(data['LOAD_TIME'])- pd.to_datetime(data['FFP_DATE']) "
      ],
      "metadata": {
        "id": "02tEguIUKgao"
      },
      "execution_count": null,
      "outputs": []
    },
    {
      "cell_type": "code",
      "source": [
        "L = pd.to_datetime(data['LOAD_TIME'])- pd.to_datetime(data['FFP_DATE']) \n",
        "data['L'] = L.apply(lambda x:x.days/30)  #入会时长\n",
        "data['R'] = data['LAST_TO_END']\n",
        "data['F'] = data['FLIGHT_COUNT']\n",
        "data['M'] = data['SEG_KM_SUM']\n",
        "data['C'] = data['avg_discount']\n",
        "data1 = data[['L','R','F','M','C']]\n",
        "data1.head()"
      ],
      "metadata": {
        "id": "js5-52KHKjUk"
      },
      "execution_count": null,
      "outputs": []
    },
    {
      "cell_type": "markdown",
      "source": [
        "##### 无量钢化"
      ],
      "metadata": {
        "id": "WxYw1x3EKnJ0"
      }
    },
    {
      "cell_type": "code",
      "source": [
        "# 5个指标的取值范围数据差异较大，为了消除数量级数据带来的影响，对数据进行标准化处理。\n",
        "explore1 = data1.describe().T\n",
        "explore1"
      ],
      "metadata": {
        "id": "y1lNh0zmKoYR"
      },
      "execution_count": null,
      "outputs": []
    },
    {
      "cell_type": "code",
      "source": [
        "from sklearn.preprocessing import StandardScaler\n",
        "std=StandardScaler()\n",
        "data_sta=pd.DataFrame(std.fit_transform(data1))"
      ],
      "metadata": {
        "id": "HiPrrCtXKq4p"
      },
      "execution_count": null,
      "outputs": []
    },
    {
      "cell_type": "code",
      "source": [
        "# 标准差标准化\n",
        "data_sta.columns=['Z'+i for i in data1.columns] # 表头重命名 表示经过标准化的数据\n",
        "data_sta.head()"
      ],
      "metadata": {
        "id": "2WOhlitKKsKL"
      },
      "execution_count": null,
      "outputs": []
    }
  ]
}