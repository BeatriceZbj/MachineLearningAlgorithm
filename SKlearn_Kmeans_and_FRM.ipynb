{
  "nbformat": 4,
  "nbformat_minor": 0,
  "metadata": {
    "colab": {
      "name": "SKlearn Kmeans and FRM.ipynb",
      "provenance": [],
      "authorship_tag": "ABX9TyPcPs9cHLyUuMRwBv1i7GRD",
      "include_colab_link": true
    },
    "kernelspec": {
      "name": "python3",
      "display_name": "Python 3"
    },
    "language_info": {
      "name": "python"
    }
  },
  "cells": [
    {
      "cell_type": "markdown",
      "metadata": {
        "id": "view-in-github",
        "colab_type": "text"
      },
      "source": [
        "<a href=\"https://colab.research.google.com/github/BeatriceZbj/MachineLearningAlgorithm/blob/main/SKlearn_Kmeans_and_FRM.ipynb\" target=\"_parent\"><img src=\"https://colab.research.google.com/assets/colab-badge.svg\" alt=\"Open In Colab\"/></a>"
      ]
    },
    {
      "cell_type": "markdown",
      "source": [
        "### 简单测试模型"
      ],
      "metadata": {
        "id": "3mIU3wFuGqK2"
      }
    },
    {
      "cell_type": "code",
      "execution_count": null,
      "metadata": {
        "id": "vypVPT1pGM7F"
      },
      "outputs": [],
      "source": [
        "from sklearn.cluster import KMeans # 导入K均值聚类算法\n",
        "kmodel = KMeans(verbose=3)\n",
        "kmodel.fit(data_sta)   #训练模型，聚类结束\n",
        "kmodel.cluster_centers_ #查看聚类中心，质心\n",
        "kmodel.labels_ #查看各样本对应的类别"
      ]
    },
    {
      "cell_type": "markdown",
      "source": [
        "### 超参数优化"
      ],
      "metadata": {
        "id": "28SbtjPnGw6H"
      }
    },
    {
      "cell_type": "code",
      "source": [
        "from sklearn.cluster import KMeans # 导入K均值聚类算法\n",
        "def test_Kmeans_nclusters(data_train):\n",
        "    data_train = data_train.values\n",
        "    nums = range(2, 10)      #聚类数目，2-10之间\n",
        "    SSE = []\n",
        "    for num in nums:\n",
        "        kmodel = KMeans(n_clusters=num, n_jobs=-1)\n",
        "        kmodel.fit(data_train)\n",
        "        sse=kmodel.inertia_  #SSE\n",
        "        print(\"簇数是\", num, \"时； SSE是\", sse)\n",
        "        SSE.append(sse)\n",
        "    return nums, SSE\n",
        "nums, SSE = test_Kmeans_nclusters(data_sta)"
      ],
      "metadata": {
        "id": "8ZO4arZHGuBL"
      },
      "execution_count": null,
      "outputs": []
    },
    {
      "cell_type": "code",
      "source": [
        "# 中文和负号的正常显示\n",
        "plt.rcParams['font.sans-serif'] = 'SimHei'\n",
        "plt.rcParams['font.size'] = 12.0\n",
        "plt.rcParams['axes.unicode_minus'] = False\n",
        "plt.style.use('ggplot')\n",
        "## 绘图观测SSE与簇个数的关系\n",
        "plt.figure(figsize=(8, 6))\n",
        "plt.plot(nums,SSE,marker=\"+\")\n",
        "plt.xlabel(\"n_clusters\", fontsize=18)\n",
        "plt.ylabel(\"SSE\", fontsize=18)\n",
        "plt.suptitle(\"KMeans\", fontsize=20)\n",
        "plt.show()"
      ],
      "metadata": {
        "id": "fN6eIzYsG1tY"
      },
      "execution_count": null,
      "outputs": []
    },
    {
      "cell_type": "code",
      "source": [
        "# 调用k-means算法，进行聚类分析\n",
        "kmodel = KMeans(n_clusters = 5,random_state=10)\n",
        "kmodel.fit(data_sta)        #训练模型\n",
        "kmodel.cluster_centers_     #查看聚类中心"
      ],
      "metadata": {
        "id": "Sw8TD_7ZG4b9"
      },
      "execution_count": null,
      "outputs": []
    },
    {
      "cell_type": "code",
      "source": [
        "kmodel.labels_             #查看各样本对应的类别，0,1,2,3,4\n",
        "pd.Series(kmodel.labels_).value_counts() # 统计频数\n",
        "r1 = pd.Series(kmodel.labels_).value_counts()       # 统计频数\n",
        "r2 = pd.DataFrame(kmodel.cluster_centers_)          # 聚类中心\n",
        "r = pd.concat([r2,r1],axis=1)\n",
        "r.columns = list(data_sta.columns) + ['聚类个数']\n",
        "r"
      ],
      "metadata": {
        "id": "DK03wkJcG8p6"
      },
      "execution_count": null,
      "outputs": []
    },
    {
      "cell_type": "markdown",
      "source": [
        "### 客户价值分析"
      ],
      "metadata": {
        "id": "0bnCEMunHEIP"
      }
    },
    {
      "cell_type": "markdown",
      "source": [
        "##### pyechart标准雷达图"
      ],
      "metadata": {
        "id": "Skno7B6oHJ1D"
      }
    },
    {
      "cell_type": "code",
      "source": [
        "import pyecharts.options as opts\n",
        "from pyecharts.charts import Radar\n",
        "\n",
        "v1 = [[4300, 10000, 28000, 35000, 50000, 19000]]\n",
        "v2 = [[5000, 14000, 28000, 31000, 42000, 21000]]\n",
        "\n",
        "(\n",
        "    Radar(init_opts=opts.InitOpts(width=\"1280px\", height=\"720px\", bg_color=\"#CCCCCC\"))\n",
        "    .add_schema(\n",
        "        schema=[\n",
        "            opts.RadarIndicatorItem(name=\"销售（sales）\", max_=6500),\n",
        "            opts.RadarIndicatorItem(name=\"管理（Administration）\", max_=16000),\n",
        "            opts.RadarIndicatorItem(name=\"信息技术（Information Technology）\", max_=30000),\n",
        "            opts.RadarIndicatorItem(name=\"客服（Customer Support）\", max_=38000),\n",
        "            opts.RadarIndicatorItem(name=\"研发（Development）\", max_=52000),\n",
        "            opts.RadarIndicatorItem(name=\"市场（Marketing）\", max_=25000),\n",
        "        ],\n",
        "        splitarea_opt=opts.SplitAreaOpts(\n",
        "            is_show=True, areastyle_opts=opts.AreaStyleOpts(opacity=1)\n",
        "        ),\n",
        "        textstyle_opts=opts.TextStyleOpts(color=\"#fff\"),\n",
        "    )\n",
        "    .add(\n",
        "        series_name=\"预算分配（Allocated Budget）\",\n",
        "        data=v1,\n",
        "        linestyle_opts=opts.LineStyleOpts(color=\"#CD0000\"),\n",
        "    )\n",
        "    .add(\n",
        "        series_name=\"实际开销（Actual Spending）\",\n",
        "        data=v2,\n",
        "        linestyle_opts=opts.LineStyleOpts(color=\"#5CACEE\"),\n",
        "    )\n",
        "    .set_series_opts(label_opts=opts.LabelOpts(is_show=False))\n",
        "    .set_global_opts(\n",
        "        title_opts=opts.TitleOpts(title=\"基础雷达图\"), legend_opts=opts.LegendOpts()\n",
        "    )\n",
        "    .render(\"basic_radar_chart.html\")\n",
        ")"
      ],
      "metadata": {
        "id": "hJ-tVHnlHJS2"
      },
      "execution_count": null,
      "outputs": []
    },
    {
      "cell_type": "markdown",
      "source": [
        "##### 在标准雷达图上进行修改"
      ],
      "metadata": {
        "id": "S7Dp9MTvHTW7"
      }
    },
    {
      "cell_type": "code",
      "source": [
        "center=kmodel.cluster_centers_\n",
        "center\n",
        "max = center.max()   #所有数据的最大值\n",
        "min = center.min()   #所有数据的最小值"
      ],
      "metadata": {
        "id": "7DFAdtIaHDyS"
      },
      "execution_count": null,
      "outputs": []
    },
    {
      "cell_type": "code",
      "source": [
        "import pyecharts.options as opts\n",
        "from pyecharts.charts import Radar\n",
        "\n",
        "v1=np.mat(center[0,:]).tolist()  \n",
        "v2=np.mat(center[1,:]).tolist()\n",
        "v3=np.mat(center[2,:]).tolist()\n",
        "v4=np.mat(center[3,:]).tolist()\n",
        "v5=np.mat(center[4,:]).tolist()\n",
        "\n",
        "(\n",
        "    Radar(init_opts=opts.InitOpts(width=\"900px\", height=\"720px\", bg_color=\"#F8F8FF\"))\n",
        "    .add_schema(\n",
        "        schema=[\n",
        "            opts.RadarIndicatorItem(name=\"入会时间-L\",max_= max, min_= min),\n",
        "            opts.RadarIndicatorItem(name=\"最后飞行时间-R\",max_= max, min_= min),\n",
        "            opts.RadarIndicatorItem(name=\"飞行次数-F\",max_= max, min_= min),\n",
        "            opts.RadarIndicatorItem(name=\"飞行总里程-M\",max_= max, min_= min),\n",
        "            opts.RadarIndicatorItem(name=\"平均折扣率-C\",max_= max, min_= min),\n",
        "        ],\n",
        "        splitarea_opt=opts.SplitAreaOpts(\n",
        "            is_show=True, areastyle_opts=opts.AreaStyleOpts(opacity=1)\n",
        "        ),\n",
        "        textstyle_opts=opts.TextStyleOpts(color=\"#DC143C\"),\n",
        "    )\n",
        "    .add(\n",
        "        series_name=\"第一簇\",\n",
        "        data=v1,\n",
        "        linestyle_opts=opts.LineStyleOpts(color=\"#f948f7\",width=3),\n",
        "        areastyle_opts=opts.AreaStyleOpts(opacity=0.2),\n",
        "    )\n",
        "    .add(\n",
        "        series_name=\"第二簇\",\n",
        "        data=v2,\n",
        "        linestyle_opts=opts.LineStyleOpts(color=\"#ffc667\",width=3),\n",
        "        areastyle_opts=opts.AreaStyleOpts(opacity=0.2),\n",
        "    )        \n",
        "    .add(\n",
        "        series_name=\"第三簇\",\n",
        "        data=v3,\n",
        "        linestyle_opts=opts.LineStyleOpts(color=\"#468b58\",width=3),\n",
        "        areastyle_opts=opts.AreaStyleOpts(opacity=0.2),\n",
        "    )\n",
        "    .add(\n",
        "        series_name=\"第四簇\",\n",
        "        data=v4,\n",
        "        linestyle_opts=opts.LineStyleOpts(color=\"#c76813\",width=3),\n",
        "        areastyle_opts=opts.AreaStyleOpts(opacity=0.1),\n",
        "    )\n",
        "  .add(\n",
        "        series_name=\"第五簇\",\n",
        "        data=v5,\n",
        "        linestyle_opts=opts.LineStyleOpts(color=\"#bdef0a\",width=3),\n",
        "        areastyle_opts=opts.AreaStyleOpts(opacity=0.2),\n",
        "        \n",
        "    )\n",
        "    .set_series_opts(label_opts=opts.LabelOpts(is_show=False))\n",
        "    .set_global_opts(\n",
        "        title_opts=opts.TitleOpts(title=\"雷达图\"), legend_opts=opts.LegendOpts()\n",
        "    )\n",
        "    .render(\"雷达图.html\")#实时显示\n",
        ")"
      ],
      "metadata": {
        "id": "ETPpvOKGHeoy"
      },
      "execution_count": null,
      "outputs": []
    },
    {
      "cell_type": "markdown",
      "source": [
        "客户价值排名：\n",
        "1、重要价值\n",
        "2、重要发展\n",
        "3、重要挽留\n",
        "4、一般客户\n",
        "5、低价值客户\n",
        "\n",
        "客户特点：\n",
        "\n",
        "（1）重要价值客户：\n",
        "\n",
        "他们是航空公司的高价值客户，是最为理想的客户类型，对公司贡献最大，所占比例小，最优先的目标，进行差异化管理，提高满意度。\n",
        "\n",
        "\n",
        "（2）重要发展客户：\n",
        "\n",
        "虽然说，当前价值不高，但是却有很大的发展潜力，促使这类客户在本公司消费和合作伙伴处消费。通过客户价值提升，加强满意度，促使称为忠诚客户。\n",
        "\n",
        "（3）重要挽留客户：\n",
        "\n",
        "增加与这类客户的互动，了解情况，采取一定手段，延长客户生命周期。\n",
        "\n",
        "（4）一般与低价值客户：\n",
        "\n",
        "他们可能是在公司打折促销时才会乘坐本公司航班。"
      ],
      "metadata": {
        "id": "4EpEfXhHHhA4"
      }
    },
    {
      "cell_type": "code",
      "source": [
        ""
      ],
      "metadata": {
        "id": "s_ZGcECzHmaq"
      },
      "execution_count": null,
      "outputs": []
    }
  ]
}